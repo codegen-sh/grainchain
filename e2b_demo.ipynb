{
 "cells": [
  {
   "cell_type": "code",
   "execution_count": 4,
   "id": "59439f1f",
   "metadata": {},
   "outputs": [
    {
     "name": "stdout",
     "output_type": "stream",
     "text": [
      "🚀 Starting E2B Demo with Custom Template\n",
      "==================================================\n",
      "📦 Using template: codegen-dev-v2\n"
     ]
    }
   ],
   "source": [
    "import asyncio\n",
    "import os\n",
    "import time\n",
    "from grainchain import Sandbox, SandboxConfig\n",
    "from grainchain.core.config import ProviderConfig\n",
    "from grainchain.providers.e2b import E2BProvider\n",
    "from dotenv import load_dotenv\n",
    "\n",
    "load_dotenv()\n",
    "    \n",
    "print(\"🚀 Starting E2B Demo with Custom Template\")\n",
    "print(\"=\" * 50)\n",
    "\n",
    "# Check API key\n",
    "if not os.getenv(\"E2B_API_KEY\"):\n",
    "    print(\"❌ Error: E2B_API_KEY environment variable not set\")\n",
    "    print(\"💡 Get your API key from: https://e2b.dev/\")\n",
    "    raise Exception\n",
    "\n",
    "# Configure E2B provider with our custom template\n",
    "template_id = \"codegen-dev-v2\"\n",
    "print(f\"📦 Using template: {template_id}\")\n",
    "\n",
    "e2b_config = ProviderConfig(\n",
    "    name=\"e2b\",\n",
    "    config={\n",
    "        \"api_key\": os.getenv(\"E2B_API_KEY\"),\n",
    "        \"template\": template_id\n",
    "    }\n",
    ")\n",
    "\n",
    "sandbox_config = SandboxConfig(\n",
    "    timeout=600,  # 10 minutes\n",
    "    working_directory=\"/home/user\",\n",
    "    environment_vars={\n",
    "        \"NODE_ENV\": \"development\",\n",
    "        \"NODE_OPTIONS\": \"--max-old-space-size=8192\"\n",
    "    }\n",
    ")\n",
    "\n",
    "e2b_provider = E2BProvider(e2b_config)"
   ]
  },
  {
   "cell_type": "markdown",
   "id": "32261598",
   "metadata": {},
   "source": [
    "# Create Sandbox"
   ]
  },
  {
   "cell_type": "code",
   "execution_count": 24,
   "id": "43dc7dc4",
   "metadata": {},
   "outputs": [
    {
     "name": "stdout",
     "output_type": "stream",
     "text": [
      "\n",
      "🔧 Step 1: Creating E2B Sandbox...\n",
      "✅ Sandbox created in 6.55s\n",
      "\n",
      "🔍 Step 2: Verifying pre-installed environment...\n",
      "📋 Environment info:\n",
      "   Node.js: v20.18.0\n",
      "   Yarn: 1.22.22\n",
      "   NPM: 11.4.1\n"
     ]
    }
   ],
   "source": [
    "# Step 1: Create sandbox\n",
    "print(\"\\n🔧 Step 1: Creating E2B Sandbox...\")\n",
    "start_time = time.time()\n",
    "\n",
    "sandbox = Sandbox(provider=e2b_provider, config=sandbox_config)\n",
    "await sandbox.create()  # This is the missing piece!\n",
    "\n",
    "creation_time = time.time() - start_time\n",
    "print(f\"✅ Sandbox created in {creation_time:.2f}s\")\n",
    "\n",
    "# Step 2: Verify environment\n",
    "print(\"\\n🔍 Step 2: Verifying pre-installed environment...\")\n",
    "result = await sandbox.execute(\"\"\"\n",
    "    export NVM_DIR=\"$HOME/.nvm\" &&\n",
    "    source \"$NVM_DIR/nvm.sh\" &&\n",
    "    echo \"Node.js: $(node --version)\" &&\n",
    "    echo \"Yarn: $(yarn --version)\" &&\n",
    "    echo \"NPM: $(npm --version)\"\n",
    "\"\"\")\n",
    "print(\"📋 Environment info:\")\n",
    "for line in result.stdout.strip().split(\"\\n\"):\n",
    "    if line.strip():\n",
    "        print(f\"   {line}\")"
   ]
  },
  {
   "cell_type": "markdown",
   "id": "b0e95c56",
   "metadata": {},
   "source": [
    "# Clone Outline"
   ]
  },
  {
   "cell_type": "code",
   "execution_count": 25,
   "id": "d635d8f5",
   "metadata": {},
   "outputs": [
    {
     "name": "stdout",
     "output_type": "stream",
     "text": [
      "\n",
      "📥 Step 3: Cloning Outline repository...\n",
      "✅ Clone completed in 13.44s\n",
      "   Repository cloned to: /home/user/projects/outline\n",
      "   Files: 25 items\n"
     ]
    }
   ],
   "source": [
    "print(\"\\n📥 Step 3: Cloning Outline repository...\")\n",
    "start_time = time.time()\n",
    "result = await sandbox.execute(\"\"\"\n",
    "    cd ~/projects &&\n",
    "    git clone https://github.com/outline/outline.git &&\n",
    "    cd outline &&\n",
    "    echo \"Repository cloned to: $(pwd)\" &&\n",
    "    echo \"Files: $(ls -1 | wc -l) items\"\n",
    "\"\"\")\n",
    "clone_time = time.time() - start_time\n",
    "if result.success:\n",
    "    print(f\"✅ Clone completed in {clone_time:.2f}s\")\n",
    "    for line in result.stdout.strip().split(\"\\n\"):\n",
    "        if line.strip():\n",
    "            print(f\"   {line}\")\n",
    "else:\n",
    "    print(f\"❌ Clone failed: {result.stderr}\")"
   ]
  },
  {
   "cell_type": "markdown",
   "id": "44cc9bac",
   "metadata": {},
   "source": [
    "# yarn install"
   ]
  },
  {
   "cell_type": "code",
   "execution_count": 26,
   "id": "96c6a5d1",
   "metadata": {},
   "outputs": [
    {
     "name": "stdout",
     "output_type": "stream",
     "text": [
      "\n",
      "🔧 Step 4: Checking Node.js compatibility...\n",
      "📋 Compatibility check:\n",
      "   Required Node version:\n",
      "     \"engines\": {\n",
      "       \"node\": \">= 18 <=20\"\n",
      "     },\n",
      "     \"repository\": {\n",
      "\n",
      "📦 Step 5: Installing dependencies with yarn...\n"
     ]
    }
   ],
   "source": [
    "# Step 4: Check Node version compatibility\n",
    "print(\"\\n🔧 Step 4: Checking Node.js compatibility...\")\n",
    "result = await sandbox.execute(\"\"\"\n",
    "    cd ~/projects/outline &&\n",
    "    echo \"Required Node version:\" &&\n",
    "    grep -A 3 '\"engines\"' package.json || echo \"No engine requirements found\"\n",
    "\"\"\")\n",
    "print(\"📋 Compatibility check:\")\n",
    "for line in result.stdout.strip().split(\"\\n\"):\n",
    "    if line.strip():\n",
    "        print(f\"   {line}\")\n",
    "\n",
    "# Step 5: Install dependencies\n",
    "print(\"\\n📦 Step 5: Installing dependencies with yarn...\")\n",
    "start_time = time.time()\n",
    "result = await sandbox.execute(\"\"\"\n",
    "    cd ~/projects/outline &&\n",
    "    export NVM_DIR=\"$HOME/.nvm\" &&\n",
    "    source \"$NVM_DIR/nvm.sh\" &&\n",
    "    yarn install --frozen-lockfile &&\n",
    "    echo \"Dependencies installed successfully!\" &&\n",
    "    echo \"node_modules size: $(du -sh node_modules 2>/dev/null || echo 'N/A')\" &&\n",
    "    echo \"Package count: $(ls node_modules 2>/dev/null | wc -l || echo '0')\"\n",
    "\"\"\")\n",
    "install_time = time.time() - start_time\n",
    "if result.success:\n",
    "    print(f\"✅ Installation completed in {install_time:.2f}s\")\n",
    "    # Show last few lines of output\n",
    "    lines = result.stdout.strip().split(\"\\n\")\n",
    "    for line in lines[-5:]:\n",
    "        if line.strip():\n",
    "            print(f\"   {line}\")\n",
    "else:\n",
    "    print(f\"❌ Installation failed in {install_time:.2f}s\")\n",
    "    print(f\"Error: {result.stderr[:200]}...\" if len(result.stderr) > 200 else result.stderr)"
   ]
  },
  {
   "cell_type": "markdown",
   "id": "5ac588f2",
   "metadata": {},
   "source": [
    "# Snapshot"
   ]
  },
  {
   "cell_type": "code",
   "execution_count": 29,
   "id": "9681a695",
   "metadata": {},
   "outputs": [
    {
     "name": "stdout",
     "output_type": "stream",
     "text": [
      "\n",
      "📸 Step 6: Creating development snapshot...\n",
      "✅ Snapshot created in 5.88s\n",
      "   Snapshot created: outline_dev_ready.tar.gz\n",
      "   Size: 77M\n"
     ]
    }
   ],
   "source": [
    "# Step 6: Create snapshot\n",
    "print(\"\\n📸 Step 6: Creating development snapshot...\")\n",
    "start_time = time.time()\n",
    "snapshot_name = \"outline_dev_ready\"\n",
    "result = await sandbox.execute(f\"\"\"\n",
    "    cd ~/projects &&\n",
    "    echo \"=== E2B Outline Development Snapshot ===\"  > {snapshot_name}.log &&\n",
    "    echo \"Created: $(date)\" >> {snapshot_name}.log &&\n",
    "    echo \"Node.js: $(node --version)\" >> {snapshot_name}.log &&\n",
    "    echo \"Directory: $(pwd)\" >> {snapshot_name}.log &&\n",
    "    tar -czf {snapshot_name}.tar.gz outline/ &&\n",
    "    echo \"Snapshot created: {snapshot_name}.tar.gz\" &&\n",
    "    echo \"Size: $(du -sh {snapshot_name}.tar.gz | cut -f1)\"\n",
    "\"\"\")\n",
    "snapshot_time = time.time() - start_time\n",
    "\n",
    "if result.success:\n",
    "    print(f\"✅ Snapshot created in {snapshot_time:.2f}s\")\n",
    "    for line in result.stdout.strip().split(\"\\n\"):\n",
    "        if line.strip():\n",
    "            print(f\"   {line}\")\n",
    "else:\n",
    "    print(f\"❌ Snapshot failed: {result.stderr}\")"
   ]
  },
  {
   "cell_type": "code",
   "execution_count": null,
   "id": "242b3191",
   "metadata": {},
   "outputs": [],
   "source": []
  },
  {
   "cell_type": "code",
   "execution_count": null,
   "id": "9cad78f9",
   "metadata": {},
   "outputs": [],
   "source": []
  },
  {
   "cell_type": "code",
   "execution_count": 2,
   "id": "23219d13",
   "metadata": {},
   "outputs": [
    {
     "ename": "NameError",
     "evalue": "name 'snapshot' is not defined",
     "output_type": "error",
     "traceback": [
      "\u001b[31m---------------------------------------------------------------------------\u001b[39m",
      "\u001b[31mNameError\u001b[39m                                 Traceback (most recent call last)",
      "\u001b[36mCell\u001b[39m\u001b[36m \u001b[39m\u001b[32mIn[2]\u001b[39m\u001b[32m, line 1\u001b[39m\n\u001b[32m----> \u001b[39m\u001b[32m1\u001b[39m \u001b[43msnapshot\u001b[49m\n",
      "\u001b[31mNameError\u001b[39m: name 'snapshot' is not defined"
     ]
    }
   ],
   "source": [
    "    # Step 1: Create sandbox\n",
    "    print(\"\\n🔧 Step 1: Creating E2B Sandbox...\")\n",
    "    start_time = time.time()\n",
    "\n",
    "    async with Sandbox(provider=e2b_provider, config=sandbox_config) as sandbox:\n",
    "        creation_time = time.time() - start_time\n",
    "        print(f\"✅ Sandbox created in {creation_time:.2f}s\")\n",
    "\n",
    "        # Step 2: Verify environment\n",
    "        print(\"\\n🔍 Step 2: Verifying pre-installed environment...\")\n",
    "        result = await sandbox.execute(\"\"\"\n",
    "            export NVM_DIR=\"$HOME/.nvm\" &&\n",
    "            source \"$NVM_DIR/nvm.sh\" &&\n",
    "            echo \"Node.js: $(node --version)\" &&\n",
    "            echo \"Yarn: $(yarn --version)\" &&\n",
    "            echo \"NPM: $(npm --version)\"\n",
    "        \"\"\")\n",
    "        print(\"📋 Environment info:\")\n",
    "        for line in result.stdout.strip().split(\"\\n\"):\n",
    "            if line.strip():\n",
    "                print(f\"   {line}\")\n",
    "\n",
    "        # Step 3: Clone Outline\n",
    "        print(\"\\n📥 Step 3: Cloning Outline repository...\")\n",
    "        start_time = time.time()\n",
    "        result = await sandbox.execute(\"\"\"\n",
    "            cd ~/projects &&\n",
    "            git clone https://github.com/outline/outline.git &&\n",
    "            cd outline &&\n",
    "            echo \"Repository cloned to: $(pwd)\" &&\n",
    "            echo \"Files: $(ls -1 | wc -l) items\"\n",
    "        \"\"\")\n",
    "        clone_time = time.time() - start_time\n",
    "        if result.success:\n",
    "            print(f\"✅ Clone completed in {clone_time:.2f}s\")\n",
    "            for line in result.stdout.strip().split(\"\\n\"):\n",
    "                if line.strip():\n",
    "                    print(f\"   {line}\")\n",
    "        else:\n",
    "            print(f\"❌ Clone failed: {result.stderr}\")\n",
    "            return\n",
    "\n",
    "        # Step 4: Check Node version compatibility\n",
    "        print(\"\\n🔧 Step 4: Checking Node.js compatibility...\")\n",
    "        result = await sandbox.execute(\"\"\"\n",
    "            cd ~/projects/outline &&\n",
    "            echo \"Required Node version:\" &&\n",
    "            grep -A 3 '\"engines\"' package.json || echo \"No engine requirements found\"\n",
    "        \"\"\")\n",
    "        print(\"📋 Compatibility check:\")\n",
    "        for line in result.stdout.strip().split(\"\\n\"):\n",
    "            if line.strip():\n",
    "                print(f\"   {line}\")\n",
    "\n",
    "        # Step 5: Install dependencies\n",
    "        print(\"\\n📦 Step 5: Installing dependencies with yarn...\")\n",
    "        start_time = time.time()\n",
    "        result = await sandbox.execute(\"\"\"\n",
    "            cd ~/projects/outline &&\n",
    "            export NVM_DIR=\"$HOME/.nvm\" &&\n",
    "            source \"$NVM_DIR/nvm.sh\" &&\n",
    "            yarn install --frozen-lockfile &&\n",
    "            echo \"Dependencies installed successfully!\" &&\n",
    "            echo \"node_modules size: $(du -sh node_modules 2>/dev/null || echo 'N/A')\" &&\n",
    "            echo \"Package count: $(ls node_modules 2>/dev/null | wc -l || echo '0')\"\n",
    "        \"\"\")\n",
    "        install_time = time.time() - start_time\n",
    "\n",
    "        if result.success:\n",
    "            print(f\"✅ Installation completed in {install_time:.2f}s\")\n",
    "            # Show last few lines of output\n",
    "            lines = result.stdout.strip().split(\"\\n\")\n",
    "            for line in lines[-5:]:\n",
    "                if line.strip():\n",
    "                    print(f\"   {line}\")\n",
    "        else:\n",
    "            print(f\"❌ Installation failed in {install_time:.2f}s\")\n",
    "            print(f\"Error: {result.stderr[:200]}...\" if len(result.stderr) > 200 else result.stderr)\n",
    "\n",
    "        # Step 6: Create snapshot\n",
    "        print(\"\\n📸 Step 6: Creating development snapshot...\")\n",
    "        start_time = time.time()\n",
    "        snapshot_name = \"outline_dev_ready\"\n",
    "        result = await sandbox.execute(f\"\"\"\n",
    "            cd ~/projects &&\n",
    "            echo \"=== E2B Outline Development Snapshot ===\"  > {snapshot_name}.log &&\n",
    "            echo \"Created: $(date)\" >> {snapshot_name}.log &&\n",
    "            echo \"Node.js: $(node --version)\" >> {snapshot_name}.log &&\n",
    "            echo \"Directory: $(pwd)\" >> {snapshot_name}.log &&\n",
    "            tar -czf {snapshot_name}.tar.gz outline/ &&\n",
    "            echo \"Snapshot created: {snapshot_name}.tar.gz\" &&\n",
    "            echo \"Size: $(du -sh {snapshot_name}.tar.gz | cut -f1)\"\n",
    "        \"\"\")\n",
    "        snapshot_time = time.time() - start_time\n",
    "\n",
    "        if result.success:\n",
    "            print(f\"✅ Snapshot created in {snapshot_time:.2f}s\")\n",
    "            for line in result.stdout.strip().split(\"\\n\"):\n",
    "                if line.strip():\n",
    "                    print(f\"   {line}\")\n",
    "        else:\n",
    "            print(f\"❌ Snapshot failed: {result.stderr}\")\n",
    "\n",
    "        # Summary\n",
    "        total_time = creation_time + clone_time + install_time + snapshot_time\n",
    "        print(\"\\n🎯 Demo Summary:\")\n",
    "        print(f\"   Sandbox creation: {creation_time:.2f}s\")\n",
    "        print(f\"   Git clone: {clone_time:.2f}s\")\n",
    "        print(f\"   Yarn install: {install_time:.2f}s\")\n",
    "        print(f\"   Snapshot: {snapshot_time:.2f}s\")\n",
    "        print(f\"   Total time: {total_time:.2f}s\")\n",
    "\n",
    "        print(\"\\n✨ E2B Demo completed successfully!\")\n",
    "            "
   ]
  },
  {
   "cell_type": "code",
   "execution_count": null,
   "id": "60e4434a",
   "metadata": {},
   "outputs": [],
   "source": []
  }
 ],
 "metadata": {
  "kernelspec": {
   "display_name": "Python 3 (ipykernel)",
   "language": "python",
   "name": "python3"
  },
  "language_info": {
   "codemirror_mode": {
    "name": "ipython",
    "version": 3
   },
   "file_extension": ".py",
   "mimetype": "text/x-python",
   "name": "python",
   "nbconvert_exporter": "python",
   "pygments_lexer": "ipython3",
   "version": "3.13.0"
  }
 },
 "nbformat": 4,
 "nbformat_minor": 5
}
